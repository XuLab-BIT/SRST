{
 "cells": [
  {
   "cell_type": "code",
   "execution_count": 1,
   "metadata": {},
   "outputs": [
    {
     "name": "stdout",
     "output_type": "stream",
     "text": [
      "DECODE version vINVALID-recent-0.10.1\n",
      "Pytorch version 2.3.1+cu118\n"
     ]
    }
   ],
   "source": [
    "import os\n",
    "import sys\n",
    "import yaml\n",
    "from pathlib import Path\n",
    "from pprint import pprint\n",
    "import matplotlib.pyplot as plt\n",
    "os.environ[\"KMP_DUPLICATE_LIB_OK\"]=\"TRUE\"\n",
    "import decode\n",
    "import decode.utils\n",
    "import decode.neuralfitter.train.live_engine\n",
    "import torch\n",
    "import seaborn as sns"
   ]
  },
  {
   "cell_type": "markdown",
   "metadata": {},
   "source": [
    "Establish SRST model and import network parameters."
   ]
  },
  {
   "cell_type": "code",
   "execution_count": 2,
   "metadata": {},
   "outputs": [
    {
     "name": "stdout",
     "output_type": "stream",
     "text": [
      "Running on the GPU\n",
      "Model instantiated.\n",
      "Model SHA-1 hash: 7dc5a7d01f499532d41611c5ffcea46531a437d3\n",
      "Loaded pretrained model: network\\experiment1\\model_2.pt\n"
     ]
    }
   ],
   "source": [
    "import Net.CNNLSTM as LS\n",
    "import Choose_Device as Device\n",
    "\n",
    "param_file = 'network/experiment1/param_run.yaml'\n",
    "param = decode.utils.param_io.load_params(param_file)\n",
    "model_file = 'network/experiment1/model_2.pt'\n",
    "model = LS.CNNBiLSTM(1, 10, seq_len=param.HyperParameter.channels_in, pad_convs=True, depth=2,initial_features=48, norm=None, norm_groups=None, sigma_eps_default=0.005).to(Device.device)\n",
    "model = decode.utils.model_io.LoadSaveModel(model, \n",
    "                                            input_file=model_file, \n",
    "                                            output_file=None).load_init(device=Device.device)"
   ]
  },
  {
   "cell_type": "code",
   "execution_count": 3,
   "metadata": {},
   "outputs": [],
   "source": [
    "def merge(frames, step, mode='average'):\n",
    "    \"\"\"\n",
    "    Superimpose adjacent frames according to step.\n",
    "    frames: raw image data.\n",
    "    step: frame number.\n",
    "    mode: Take the average or maximum value after superposition.\n",
    "    \"\"\"\n",
    "    ret = []\n",
    "    if mode=='max':\n",
    "        for i in range(0,frames.size()[0],step):\n",
    "            tmp = frames[i]\n",
    "            for j in range(1, step):\n",
    "                if i+j>=frames.size()[0]:\n",
    "                    break\n",
    "                tmp = torch.maximum(tmp,frames[i+j])\n",
    "            ret.append(tmp)\n",
    "    elif mode=='average':\n",
    "        for i in range(0,frames.size()[0],step):\n",
    "            tmp = frames[i]\n",
    "            for j in range(1, step):\n",
    "                if i+j>=frames.size()[0]:\n",
    "                    break\n",
    "                tmp += frames[i+j]\n",
    "            tmp /= step\n",
    "            ret.append(tmp)\n",
    "    ret = torch.stack(ret)\n",
    "    return ret\n",
    "\n",
    "def work(param, frames, model):\n",
    "    camera = decode.simulation.camera.Photon2Camera.parse(param)\n",
    "    camera.device = 'cpu'\n",
    "    device = 'cuda:0'\n",
    "\n",
    "    post_raw_th = param.PostProcessingParam.raw_th\n",
    "    frame_proc = decode.neuralfitter.utils.processing.TransformSequence([\n",
    "        decode.neuralfitter.utils.processing.wrap_callable(camera.backward),\n",
    "        decode.neuralfitter.frame_processing.AutoCenterCrop(8),\n",
    "        decode.neuralfitter.scale_transform.AmplitudeRescale.parse(param)\n",
    "    ])\n",
    "\n",
    "    size_procced = decode.neuralfitter.frame_processing.get_frame_extent(frames.unsqueeze(1).size(), frame_proc.forward)  # frame size after processing\n",
    "    frame_extent = ((0, size_procced[-2]), (0, size_procced[-1]))\n",
    "\n",
    "    post_proc = decode.neuralfitter.utils.processing.TransformSequence([\n",
    "        \n",
    "        decode.neuralfitter.scale_transform.InverseParamListRescale.parse(param),\n",
    "        \n",
    "        decode.neuralfitter.coord_transform.Offset2Coordinate(xextent=frame_extent[0],\n",
    "                                                            yextent=frame_extent[1],\n",
    "                                                            img_shape=size_procced[-2:]),\n",
    "        \n",
    "        decode.neuralfitter.post_processing.SpatialIntegration(raw_th=post_raw_th,\n",
    "                                                            xy_unit='px', \n",
    "                                                            px_size=param.Camera.px_size)\n",
    "    ])\n",
    "    infer_ts = decode.neuralfitter.Infer(model=model, ch_in=param.HyperParameter.channels_in,\n",
    "                                    frame_proc=frame_proc, post_proc=post_proc,\n",
    "                                    device=device, num_workers=0, pin_memory=False,\n",
    "                                    batch_size='auto')\n",
    "    \n",
    "    em_pred = infer_ts.forward(frames)\n",
    "\n",
    "    return em_pred"
   ]
  },
  {
   "cell_type": "markdown",
   "metadata": {},
   "source": [
    "load the tif / tiff format file and process the frame"
   ]
  },
  {
   "cell_type": "code",
   "execution_count": 6,
   "metadata": {},
   "outputs": [],
   "source": [
    "frame_path = 'dataset/frame.tif'\n",
    "frames = decode.utils.frames_io.load_tif(frame_path)\n",
    "# frames = merge(frames,5,'max')\n",
    "# frames = merge(frames,6,'average')\n",
    "em_pred = work(param, frames, model)\n",
    "print(em_pred)"
   ]
  },
  {
   "cell_type": "markdown",
   "metadata": {},
   "source": [
    "The location of the specified frame is viewed, and the color indicates the location probability. The brighter the color, the higher the probability that the location point has molecules."
   ]
  },
  {
   "cell_type": "code",
   "execution_count": null,
   "metadata": {},
   "outputs": [],
   "source": [
    "#@markdown > Check random frame\n",
    "import matplotlib.pyplot as plt\n",
    "\n",
    "random_ix = 66\n",
    "camera = decode.simulation.camera.Photon2Camera.parse(param)\n",
    "frame_proc = decode.neuralfitter.utils.processing.TransformSequence([\n",
    "    decode.neuralfitter.utils.processing.wrap_callable(camera.backward),\n",
    "    decode.neuralfitter.frame_processing.AutoCenterCrop(8),\n",
    "    decode.neuralfitter.scale_transform.AmplitudeRescale.parse(param)\n",
    "])\n",
    "em_subset = em_pred.get_subset_frame(random_ix, random_ix)\n",
    "plt.figure(figsize=(12, 6))\n",
    "plt.subplot(131)\n",
    "decode.plot.PlotFrameCoord(frame=frame_proc.forward(frames[[random_ix]]).cpu()).plot()\n",
    "plt.subplot(132)\n",
    "decode.plot.PlotFrameCoord(frame=frames[[random_ix]]).plot()\n",
    "plt.subplot(133)\n",
    "decode.plot.PlotFrameCoord(frame=frame_proc.forward(frames[[random_ix]]).cpu(),\n",
    "                        pos_out=em_subset.xyz_px, phot_out=em_subset.prob).plot()\n",
    "plt.legend()\n",
    "plt.show()\n",
    "plt.close()"
   ]
  },
  {
   "cell_type": "markdown",
   "metadata": {},
   "source": [
    "Draw unfiltered super-resolution images"
   ]
  },
  {
   "cell_type": "code",
   "execution_count": null,
   "metadata": {},
   "outputs": [],
   "source": [
    "sz_x = 180\n",
    "sz_y = 179\n",
    "xx = 127\n",
    "yy = 117\n",
    "plt.figure(figsize=(8, 8))\n",
    "decode.renderer.renderer.Renderer2D(xextent=(xx, sz_x*xx), yextent=(yy, sz_y*yy), colextent=[-700,700], px_size=2., sigma_blur=5., rel_clip=0.05, contrast=50).render(em_pred, em_pred.xyz_nm[:,2])\n",
    "plt.show()"
   ]
  },
  {
   "cell_type": "markdown",
   "metadata": {},
   "source": [
    "Filter molecules with high uncertainty and draw super-resolution images"
   ]
  },
  {
   "cell_type": "code",
   "execution_count": null,
   "metadata": {},
   "outputs": [],
   "source": [
    "p_low_threshold = 0.6 #@param {type:\"slider\", min:0, max:1, step:0.01}\n",
    "sigma_x_high_threshold = 49 #@param {type:\"slider\", min:10, max:150, step:1}\n",
    "sigma_y_high_threshold = 49 #@param {type:\"slider\", min:10, max:150, step:1}\n",
    "sigma_z_high_threshold = 150 #@param {type:\"slider\", min:10, max:250, step:1}\n",
    "em_sub = em_pred[em_pred.prob >= p_low_threshold]\n",
    "em_sub = em_sub[(em_sub.xyz_sig_nm[:, 0] <= sigma_x_high_threshold) * (em_sub.xyz_sig_nm[:, 1] <= sigma_x_high_threshold) * (em_sub.xyz_sig_nm[:, 2] <= sigma_z_high_threshold)]\n",
    "fig, axs = plt.subplots(2, 2, figsize=(24, 12), sharex='col',\n",
    "                    gridspec_kw={'height_ratios': [1, 1200 / 7000]})\n",
    "extents = {\n",
    "    'xextent': [xx*sz_x/2, xx*sz_x],\n",
    "    'yextent': [0, yy*sz_y/2],\n",
    "    'zextent': [-700, 700],\n",
    "    'colextent': [-700, 700]}\n",
    "decode.renderer.Renderer2D(\n",
    "    px_size=5., sigma_blur=5., rel_clip=None, abs_clip=3, **extents,\n",
    "    plot_axis=(0, 1), contrast=10).render(em_sub, em_sub.xyz_px[:,2], ax=axs[0, 0])\n",
    "decode.renderer.Renderer2D(\n",
    "    px_size=5., sigma_blur=5., rel_clip=None, abs_clip=15, **extents,\n",
    "    plot_axis=(0, 2), contrast=10).render(em_sub, em_sub.xyz_px[:,2], ax=axs[1, 0])\n",
    "decode.renderer.RendererIndividual2D(\n",
    "    px_size=5., filt_size=20, rel_clip=None, abs_clip=3, **extents,\n",
    "    plot_axis=(0, 1), contrast=10).render(em_sub, em_sub.xyz_px[:,2], ax=axs[0, 1])\n",
    "decode.renderer.RendererIndividual2D(\n",
    "    px_size=5., filt_size=20, rel_clip=None, abs_clip=15, **extents,\n",
    "    plot_axis=(0, 2), contrast=10).render(em_sub, em_sub.xyz_px[:,2], ax=axs[1, 1])\n",
    "\n",
    "axs[0, 0].set_title('Rendering with constant sigma blur 5 nm', fontsize=20)\n",
    "axs[0, 1].set_title('Rendering with individual sigmas', fontsize=20)\n",
    "# plt.savefig(output_path+outputs[cnt])\n",
    "plt.show()\n",
    "plt.close()\n",
    "\n",
    "plt.fig, ax = plt.subplots(1, 4, figsize=(16, 2))\n",
    "sns.distplot(em_pred.prob, bins=50, norm_hist=True, kde=False, ax=ax[0])\n",
    "ax[0].axvspan(p_low_threshold, 1., alpha=0.2, color='green')\n",
    "ax[0].set_xlabel(r'$p$')\n",
    "\n",
    "sns.distplot(em_pred.xyz_sig_nm[:, 0], bins=50, norm_hist=True, kde=False, ax=ax[1])\n",
    "ax[1].axvspan(0., sigma_x_high_threshold, alpha=0.2, color='green')\n",
    "ax[1].set_xlabel(r'$\\sigma_x$ [nm]')\n",
    "\n",
    "sns.distplot(em_pred.xyz_sig_nm[:, 1], bins=50, norm_hist=True, kde=False, ax=ax[2])\n",
    "ax[2].axvspan(0., sigma_y_high_threshold, alpha=0.2, color='green')\n",
    "ax[2].set_xlabel(r'$\\sigma_y$ [nm]')\n",
    "\n",
    "sns.distplot(em_pred.xyz_sig_nm[:, 2], bins=50, norm_hist=True, kde=False, ax=ax[3])\n",
    "ax[3].axvspan(0., sigma_z_high_threshold, alpha=0.2, color='green')\n",
    "ax[3].set_xlabel(r'$\\sigma_z$ [nm]')\n",
    "\n",
    "plt.show()\n",
    "plt.close()"
   ]
  }
 ],
 "metadata": {
  "kernelspec": {
   "display_name": "decode_env",
   "language": "python",
   "name": "python3"
  },
  "language_info": {
   "codemirror_mode": {
    "name": "ipython",
    "version": 3
   },
   "file_extension": ".py",
   "mimetype": "text/x-python",
   "name": "python",
   "nbconvert_exporter": "python",
   "pygments_lexer": "ipython3",
   "version": "3.8.19"
  },
  "orig_nbformat": 4
 },
 "nbformat": 4,
 "nbformat_minor": 2
}
